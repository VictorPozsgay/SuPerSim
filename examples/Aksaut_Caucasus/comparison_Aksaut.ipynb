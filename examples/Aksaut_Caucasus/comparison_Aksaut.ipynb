{
 "cells": [
  {
   "cell_type": "code",
   "execution_count": 1,
   "metadata": {},
   "outputs": [],
   "source": [
    "from datetime import datetime\n",
    "from collections import defaultdict\n",
    "import re\n",
    "import pickle\n",
    "import pandas as pd\n",
    "from netCDF4 import Dataset, num2date #pylint: disable=no-name-in-module\n",
    "import numpy as np\n",
    "import numpy.ma as ma\n",
    "\n",
    "import matplotlib\n",
    "import matplotlib.pyplot as plt\n",
    "from matplotlib.patches import Rectangle\n",
    "import scipy.optimize as opt\n",
    "from scipy.stats import linregress\n",
    "import seaborn as sn\n",
    "import cmasher as cmr\n",
    "import mpl_axes_aligner\n",
    "\n",
    "import os\n",
    "import sys\n",
    "from pathlib import Path\n",
    "path = Path(os.getcwd())\n",
    "path_parent=str(path.parent.parent.absolute())\n",
    "path_module=path_parent+'/src'\n",
    "sys.path.insert(0, os.path.abspath(path_module))\n",
    "\n",
    "from functions_summary import *\n",
    "from pickling import get_all_stats"
   ]
  },
  {
   "cell_type": "code",
   "execution_count": null,
   "metadata": {},
   "outputs": [],
   "source": [
    "path_parent = '/fs/yedoma/home/vpo001/storage/Caucasus/Aksaut/'\n",
    "path_data = '/fs/yedoma/home/vpo001/storage/Caucasus/Aksaut/niagara_results/'\n",
    "path_data_North = path_data+'North_1980/'\n",
    "path_data_South = path_data+'South_1980/'\n",
    "\n",
    "\n",
    "path_forcing_merra2 = path_parent+'final_forcing/scaled_merra2_Aksaut_1980.nc'\n",
    "path_ground = [path_data_North+'result_soil_temperature.nc', path_data_South+'result_soil_temperature.nc']\n",
    "path_snow = [path_data_North+'result_snow_depth.nc', path_data_South+'result_snow_depth.nc']\n",
    "path_swe = [path_data_North+'result_swe.nc', path_data_South+'result_swe.nc']\n",
    "path_thaw_depth = [path_data_North+'result_thaw_depth.nc', path_data_South+'result_thaw_depth.nc']\n",
    "path_SW_direct = [path_data_North+'result_SW_direct.nc', path_data_South+'result_SW_direct.nc']\n",
    "path_SW_diffuse = [path_data_North+'result_SW_diffuse.nc', path_data_South+'result_SW_diffuse.nc']\n",
    "path_SW_up = [path_data_North+'result_SW_up.nc', path_data_South+'result_SW_up.nc']\n",
    "path_SW_down = [path_data_North+'result_SW_down.nc', path_data_South+'result_SW_down.nc']\n",
    "path_SW_net = [path_data_North+'result_SW_net.nc', path_data_South+'result_SW_net.nc']\n",
    "path_LW_net = [path_data_North+'result_LW_net.nc', path_data_South+'result_LW_net.nc']\n",
    "\n",
    "path_repository = [path_data_North+'folder_manifest.csv', path_data_South+'folder_manifest.csv']\n",
    "path_pickle = '/fs/yedoma/home/vpo001/VikScriptsTests/Python_Pickles/'\n",
    "site = 'Aksaut_North_1980'\n",
    "year_bkg_end = 2000\n",
    "year_trans_end = 2023\n",
    "forcing_list = ['merra2']\n",
    "path_forcing_list = [path_forcing_merra2]\n",
    "date_event = [2021, 12, 31]\n",
    "topo_event = []\n",
    "no_weight = True\n",
    "consecutive = 7\n",
    "glacier = False\n",
    "min_glacier_depth = 100"
   ]
  },
  {
   "cell_type": "code",
   "execution_count": 2,
   "metadata": {},
   "outputs": [
    {
     "ename": "FileNotFoundError",
     "evalue": "[Errno 2] No such file or directory: '/home/vpo001/VikScriptsTests/Python_Pickles/melt_out_Aksaut_North.pkl'",
     "output_type": "error",
     "traceback": [
      "\u001b[0;31m---------------------------------------------------------------------------\u001b[0m",
      "\u001b[0;31mFileNotFoundError\u001b[0m                         Traceback (most recent call last)",
      "Cell \u001b[0;32mIn[2], line 51\u001b[0m\n\u001b[1;32m     48\u001b[0m df_stats \u001b[38;5;241m=\u001b[39m [[]]\u001b[38;5;241m*\u001b[39m\u001b[38;5;28mlen\u001b[39m(site)\n\u001b[1;32m     50\u001b[0m \u001b[38;5;28;01mfor\u001b[39;00m i \u001b[38;5;129;01min\u001b[39;00m \u001b[38;5;28mrange\u001b[39m(\u001b[38;5;28mlen\u001b[39m(site)):\n\u001b[0;32m---> 51\u001b[0m     list_valid_sim[i], _, _, df_stats[i], _, _ \u001b[38;5;241m=\u001b[39m \u001b[43mload_all_pickles\u001b[49m\u001b[43m(\u001b[49m\u001b[43msite\u001b[49m\u001b[43m[\u001b[49m\u001b[43mi\u001b[49m\u001b[43m]\u001b[49m\u001b[43m,\u001b[49m\u001b[43m \u001b[49m\u001b[43mpath_pickle\u001b[49m\u001b[43m)\u001b[49m\n",
      "File \u001b[0;32m~/VikScriptsTests/SuPerSim/src/pickling.py:734\u001b[0m, in \u001b[0;36mload_all_pickles\u001b[0;34m(site, path_pickle)\u001b[0m\n\u001b[1;32m    732\u001b[0m     my_path \u001b[38;5;241m=\u001b[39m path_pickle \u001b[38;5;241m+\u001b[39m file_name\n\u001b[1;32m    733\u001b[0m     \u001b[38;5;66;03m# Open the file in binary mode \u001b[39;00m\n\u001b[0;32m--> 734\u001b[0m     \u001b[38;5;28;01mwith\u001b[39;00m \u001b[38;5;28;43mopen\u001b[39;49m\u001b[43m(\u001b[49m\u001b[43mmy_path\u001b[49m\u001b[43m,\u001b[49m\u001b[43m \u001b[49m\u001b[38;5;124;43m'\u001b[39;49m\u001b[38;5;124;43mrb\u001b[39;49m\u001b[38;5;124;43m'\u001b[39;49m\u001b[43m)\u001b[49m \u001b[38;5;28;01mas\u001b[39;00m file: \n\u001b[1;32m    735\u001b[0m         \u001b[38;5;66;03m# Call load method to deserialze \u001b[39;00m\n\u001b[1;32m    736\u001b[0m         output[i] \u001b[38;5;241m=\u001b[39m pickle\u001b[38;5;241m.\u001b[39mload(file) \n\u001b[1;32m    738\u001b[0m [df, reanalysis_stats, list_valid_sim, [dict_melt_out, stats_melt_out_dic], df_stats, rockfall_values] \u001b[38;5;241m=\u001b[39m output\n",
      "\u001b[0;31mFileNotFoundError\u001b[0m: [Errno 2] No such file or directory: '/home/vpo001/VikScriptsTests/Python_Pickles/melt_out_Aksaut_North.pkl'"
     ]
    }
   ],
   "source": [
    "path_forcing_merra2 = '/home/vpo001/storage/Caucasus/Aksaut/scaled/scaled_merra2_Aksaut.nc'\n",
    "path_ground = ['/home/vpo001/storage/Caucasus/Aksaut/niagara_results/North/result_soil_temperature.nc',\n",
    "               '/home/vpo001/storage/Caucasus/Aksaut/niagara_results/South/result_soil_temperature.nc']\n",
    "path_snow = ['/home/vpo001/storage/Caucasus/Aksaut/niagara_results/North/result_snow_depth.nc',\n",
    "             '/home/vpo001/storage/Caucasus/Aksaut/niagara_results/South/result_snow_depth.nc']\n",
    "path_swe = ['/home/vpo001/storage/Caucasus/Aksaut/niagara_results/North/result_swe.nc',\n",
    "            '/home/vpo001/storage/Caucasus/Aksaut/niagara_results/South/result_swe.nc']\n",
    "path_thaw_depth = ['/home/vpo001/storage/Caucasus/Aksaut/niagara_results/North/result_thaw_depth.nc',\n",
    "                   '/home/vpo001/storage/Caucasus/Aksaut/niagara_results/South/result_thaw_depth.nc']\n",
    "path_SW_direct = ['/home/vpo001/storage/Caucasus/Aksaut/niagara_results/North/merra2/result_SW_direct.nc',\n",
    "                  '/home/vpo001/storage/Caucasus/Aksaut/niagara_results/South/result_SW_direct.nc']\n",
    "path_SW_diffuse = ['/home/vpo001/storage/Caucasus/Aksaut/niagara_results/North/result_SW_diffuse.nc',\n",
    "                   '/home/vpo001/storage/Caucasus/Aksaut/niagara_results/South/result_SW_diffuse.nc']\n",
    "path_SW_up = ['/home/vpo001/storage/Caucasus/Aksaut/niagara_results/North/result_SW_up.nc',\n",
    "              '/home/vpo001/storage/Caucasus/Aksaut/niagara_results/South/result_SW_up.nc']\n",
    "path_SW_down = ['/home/vpo001/storage/Caucasus/Aksaut/niagara_results/North/result_SW_down.nc',\n",
    "                '/home/vpo001/storage/Caucasus/Aksaut/niagara_results/South/result_SW_down.nc']\n",
    "path_SW_net = ['/home/vpo001/storage/Caucasus/Aksaut/niagara_results/North/result_SW_net.nc',\n",
    "               '/home/vpo001/storage/Caucasus/Aksaut/niagara_results/South/result_SW_net.nc']\n",
    "path_LW_net = ['/home/vpo001/storage/Caucasus/Aksaut/niagara_results/North/result_LW_net.nc',\n",
    "               '/home/vpo001/storage/Caucasus/Aksaut/niagara_results/South/result_LW_net.nc']\n",
    "path_repository = ['/home/vpo001/storage/Caucasus/Aksaut/niagara_results/North/folder_manifest.csv',\n",
    "                   '/home/vpo001/storage/Caucasus/Aksaut/niagara_results/South/folder_manifest.csv',\n",
    "                   '/home/vpo001/storage/Caucasus/Aksaut/niagara_results/North_test_no_SWEtop/folder_manifest.csv',\n",
    "                   '/home/vpo001/storage/Caucasus/Aksaut/niagara_results/North_test_no_SnowSMIN/folder_manifest.csv']\n",
    "path_pickle = '/home/vpo001/VikScriptsTests/Python_Pickles/'\n",
    "site = ['Aksaut_North', 'Aksaut_South']\n",
    "year_bkg_end=2010\n",
    "year_trans_end=2023\n",
    "\n",
    "list_valid_sim = [[]]*len(site)\n",
    "df_stats = [[]]*len(site)\n",
    "\n",
    "for i in range(len(site)):\n",
    "    list_valid_sim[i], _, _, df_stats[i], _, _ = load_all_pickles(site[i], path_pickle)"
   ]
  }
 ],
 "metadata": {
  "kernelspec": {
   "display_name": "victorconda",
   "language": "python",
   "name": "python3"
  },
  "language_info": {
   "codemirror_mode": {
    "name": "ipython",
    "version": 3
   },
   "file_extension": ".py",
   "mimetype": "text/x-python",
   "name": "python",
   "nbconvert_exporter": "python",
   "pygments_lexer": "ipython3",
   "version": "3.12.0"
  }
 },
 "nbformat": 4,
 "nbformat_minor": 2
}
