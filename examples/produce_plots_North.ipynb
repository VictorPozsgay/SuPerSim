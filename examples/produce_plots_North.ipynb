{
 "cells": [
  {
   "cell_type": "code",
   "execution_count": 1,
   "metadata": {},
   "outputs": [],
   "source": [
    "from datetime import datetime\n",
    "from collections import defaultdict\n",
    "import re\n",
    "import pickle\n",
    "import pandas as pd\n",
    "from netCDF4 import Dataset, num2date #pylint: disable=no-name-in-module\n",
    "import numpy as np\n",
    "import numpy.ma as ma\n",
    "\n",
    "import matplotlib\n",
    "import matplotlib.pyplot as plt\n",
    "from matplotlib.patches import Rectangle\n",
    "import scipy.optimize as opt\n",
    "from scipy.stats import linregress\n",
    "import seaborn as sn\n",
    "import cmasher as cmr\n",
    "import mpl_axes_aligner\n",
    "\n",
    "import os\n",
    "import sys\n",
    "from pathlib import Path\n",
    "path = Path(os.getcwd())\n",
    "path_parent=str(path.parent.absolute())\n",
    "path_module=path_parent+'/src/SuPerSim'\n",
    "sys.path.insert(0, os.path.abspath(path_module))\n",
    "\n",
    "from functions_summary import *\n",
    "from pickling import get_all_stats"
   ]
  },
  {
   "cell_type": "code",
   "execution_count": 2,
   "metadata": {},
   "outputs": [],
   "source": [
    "################################################\n",
    "# Here, write the paths to your own data files #\n",
    "################################################\n",
    "\n",
    "# this is just introduced for convenience\n",
    "path_data = path_parent+'/examples/data/'\n",
    "\n",
    "# those are the real variables\n",
    "path_forcing_merra2 = path_data+'/scaled_merra2_Aksaut.nc'\n",
    "path_ground = path_data+'North/result_soil_temperature.nc'\n",
    "path_snow = path_data+'North/result_snow_depth.nc'\n",
    "path_swe = path_data+'North/result_swe.nc'\n",
    "path_thaw_depth = path_data+'North/result_thaw_depth.nc'\n",
    "path_repository = path_data+'North/folder_manifest.csv'\n",
    "path_pickle = path_parent+'/examples/python_pickles/'\n",
    "\n",
    "###############################################################\n",
    "# Enter the parameters of your site and of the rockfall event #\n",
    "###############################################################\n",
    "\n",
    "site = 'Aksaut_North'\n",
    "year_bkg_end = 2010\n",
    "year_trans_end = 2023\n",
    "forcing_list = ['merra2']\n",
    "path_forcing_list = [path_forcing_merra2]\n",
    "date_event = [2021, 12, 31]\n",
    "topo_event = []\n",
    "no_weight = True\n",
    "consecutive = 7\n",
    "glacier = False\n",
    "min_glacier_depth = 100"
   ]
  },
  {
   "cell_type": "code",
   "execution_count": 3,
   "metadata": {},
   "outputs": [
    {
     "ename": "FileNotFoundError",
     "evalue": "[Errno 2] No such file or directory: '/fs/yedoma/home/vpo001/VikScriptsTests/SuPerSim/examples/Aksaut_Caucasus/data/North/result_soil_temperature.nc'",
     "output_type": "error",
     "traceback": [
      "\u001b[0;31m---------------------------------------------------------------------------\u001b[0m",
      "\u001b[0;31mFileNotFoundError\u001b[0m                         Traceback (most recent call last)",
      "Cell \u001b[0;32mIn[3], line 8\u001b[0m\n\u001b[1;32m      1\u001b[0m \u001b[38;5;66;03m###############\u001b[39;00m\n\u001b[1;32m      2\u001b[0m \u001b[38;5;66;03m# Ready to go #\u001b[39;00m\n\u001b[1;32m      3\u001b[0m \u001b[38;5;66;03m###############\u001b[39;00m\n\u001b[0;32m   (...)\u001b[0m\n\u001b[1;32m      6\u001b[0m \u001b[38;5;66;03m# When the pickles already exist, it simply loads them\u001b[39;00m\n\u001b[1;32m      7\u001b[0m \u001b[38;5;66;03m# but it's easier to use the function 'load_all_pickles' for that\u001b[39;00m\n\u001b[0;32m----> 8\u001b[0m df, reanalysis_stats, list_valid_sim, dict_melt_out, stats_melt_out_dic, df_stats, rockfall_values \u001b[38;5;241m=\u001b[39m \u001b[43mget_all_stats\u001b[49m\u001b[43m(\u001b[49m\n\u001b[1;32m      9\u001b[0m \u001b[43m    \u001b[49m\u001b[43mforcing_list\u001b[49m\u001b[43m,\u001b[49m\u001b[43m \u001b[49m\u001b[43mpath_forcing_list\u001b[49m\u001b[43m,\u001b[49m\u001b[43m \u001b[49m\u001b[43mpath_repository\u001b[49m\u001b[43m,\u001b[49m\u001b[43m \u001b[49m\u001b[43mpath_ground\u001b[49m\u001b[43m,\u001b[49m\u001b[43m \u001b[49m\u001b[43mpath_snow\u001b[49m\u001b[43m,\u001b[49m\u001b[43m \u001b[49m\u001b[43mpath_pickle\u001b[49m\u001b[43m,\u001b[49m\n\u001b[1;32m     10\u001b[0m \u001b[43m    \u001b[49m\u001b[43myear_bkg_end\u001b[49m\u001b[43m,\u001b[49m\u001b[43m \u001b[49m\u001b[43myear_trans_end\u001b[49m\u001b[43m,\u001b[49m\u001b[43m \u001b[49m\u001b[43mconsecutive\u001b[49m\u001b[43m,\u001b[49m\n\u001b[1;32m     11\u001b[0m \u001b[43m    \u001b[49m\u001b[43msite\u001b[49m\u001b[43m,\u001b[49m\u001b[43m \u001b[49m\u001b[43mdate_event\u001b[49m\u001b[43m,\u001b[49m\u001b[43m \u001b[49m\u001b[43mtopo_event\u001b[49m\u001b[43m,\u001b[49m\n\u001b[1;32m     12\u001b[0m \u001b[43m    \u001b[49m\u001b[43mglacier\u001b[49m\u001b[43m,\u001b[49m\u001b[43m \u001b[49m\u001b[43mmin_glacier_depth\u001b[49m\u001b[43m)\u001b[49m\n\u001b[1;32m     14\u001b[0m \u001b[38;5;66;03m# this is a function that allows the used to load the pickles in a much simpler way\u001b[39;00m\n\u001b[1;32m     15\u001b[0m df, reanalysis_stats, list_valid_sim, dict_melt_out, stats_melt_out_dic, df_stats, rockfall_values \u001b[38;5;241m=\u001b[39m load_all_pickles(site, path_pickle)\n",
      "File \u001b[0;32m~/VikScriptsTests/SuPerSim/src/SuPerSim/pickling.py:803\u001b[0m, in \u001b[0;36mget_all_stats\u001b[0;34m(forcing_list, path_forcing_list, path_repository, path_ground, path_snow, path_pickle, year_bkg_end, year_trans_end, consecutive, site, date_event, topo_event, glacier, min_glacier_depth, max_glacier_depth)\u001b[0m\n\u001b[1;32m    742\u001b[0m \u001b[38;5;28;01mdef\u001b[39;00m \u001b[38;5;21mget_all_stats\u001b[39m(forcing_list, path_forcing_list, path_repository, path_ground, path_snow, path_pickle,\n\u001b[1;32m    743\u001b[0m                   year_bkg_end, year_trans_end, consecutive,\n\u001b[1;32m    744\u001b[0m                   site, date_event, topo_event,\n\u001b[1;32m    745\u001b[0m                   glacier\u001b[38;5;241m=\u001b[39m\u001b[38;5;28;01mFalse\u001b[39;00m, min_glacier_depth\u001b[38;5;241m=\u001b[39m\u001b[38;5;241m100\u001b[39m, max_glacier_depth\u001b[38;5;241m=\u001b[39m\u001b[38;5;241m20000\u001b[39m):\n\u001b[1;32m    746\u001b[0m \u001b[38;5;250m    \u001b[39m\u001b[38;5;124;03m\"\"\" Creates a number of pickle files (if they don't exist yet)\u001b[39;00m\n\u001b[1;32m    747\u001b[0m \u001b[38;5;124;03m    \u001b[39;00m\n\u001b[1;32m    748\u001b[0m \u001b[38;5;124;03m    Parameters\u001b[39;00m\n\u001b[0;32m   (...)\u001b[0m\n\u001b[1;32m    800\u001b[0m \n\u001b[1;32m    801\u001b[0m \u001b[38;5;124;03m    \"\"\"\u001b[39;00m\n\u001b[0;32m--> 803\u001b[0m     df \u001b[38;5;241m=\u001b[39m \u001b[43massign_value_df\u001b[49m\u001b[43m(\u001b[49m\u001b[43mpath_repository\u001b[49m\u001b[43m,\u001b[49m\u001b[43m \u001b[49m\u001b[43mpath_ground\u001b[49m\u001b[43m,\u001b[49m\u001b[43m \u001b[49m\u001b[43mpath_pickle\u001b[49m\u001b[43m,\u001b[49m\u001b[43m \u001b[49m\u001b[43msite\u001b[49m\u001b[43m)\u001b[49m\n\u001b[1;32m    804\u001b[0m     reanalysis_stats \u001b[38;5;241m=\u001b[39m assign_value_reanalysis_stat(forcing_list, path_forcing_list, path_pickle, year_bkg_end, year_trans_end, site)\n\u001b[1;32m    805\u001b[0m     list_valid_sim \u001b[38;5;241m=\u001b[39m glacier_filter(site, path_snow, path_pickle, glacier, min_glacier_depth, max_glacier_depth)\n",
      "File \u001b[0;32m~/VikScriptsTests/SuPerSim/src/SuPerSim/pickling.py:142\u001b[0m, in \u001b[0;36massign_value_df\u001b[0;34m(path_repository, path_ground, path_pickle, site)\u001b[0m\n\u001b[1;32m    139\u001b[0m file_name \u001b[38;5;241m=\u001b[39m \u001b[38;5;124mf\u001b[39m\u001b[38;5;124m\"\u001b[39m\u001b[38;5;124mdf\u001b[39m\u001b[38;5;132;01m{\u001b[39;00m(\u001b[38;5;124m'\u001b[39m\u001b[38;5;124m'\u001b[39m\u001b[38;5;250m \u001b[39m\u001b[38;5;28;01mif\u001b[39;00m\u001b[38;5;250m \u001b[39msite\u001b[38;5;241m==\u001b[39m\u001b[38;5;124m'\u001b[39m\u001b[38;5;124m'\u001b[39m\u001b[38;5;250m \u001b[39m\u001b[38;5;28;01melse\u001b[39;00m\u001b[38;5;250m \u001b[39m\u001b[38;5;124m'\u001b[39m\u001b[38;5;124m_\u001b[39m\u001b[38;5;124m'\u001b[39m)\u001b[38;5;132;01m}\u001b[39;00m\u001b[38;5;132;01m{\u001b[39;00msite\u001b[38;5;132;01m}\u001b[39;00m\u001b[38;5;124m.pkl\u001b[39m\u001b[38;5;124m\"\u001b[39m\n\u001b[1;32m    140\u001b[0m my_path \u001b[38;5;241m=\u001b[39m path_pickle \u001b[38;5;241m+\u001b[39m file_name\n\u001b[0;32m--> 142\u001b[0m f_ground, _, _ \u001b[38;5;241m=\u001b[39m \u001b[43mopen_ground_nc\u001b[49m\u001b[43m(\u001b[49m\u001b[43mpath_ground\u001b[49m\u001b[43m)\u001b[49m\n\u001b[1;32m    144\u001b[0m \u001b[38;5;66;03m# try to open the pickle file, if it exists\u001b[39;00m\n\u001b[1;32m    145\u001b[0m \u001b[38;5;28;01mtry\u001b[39;00m:\n\u001b[1;32m    146\u001b[0m     \u001b[38;5;66;03m# Open the file in binary mode\u001b[39;00m\n",
      "File \u001b[0;32m~/VikScriptsTests/SuPerSim/src/SuPerSim/open.py:62\u001b[0m, in \u001b[0;36mopen_ground_nc\u001b[0;34m(path_ground)\u001b[0m\n\u001b[1;32m     44\u001b[0m \u001b[38;5;250m\u001b[39m\u001b[38;5;124;03m\"\"\" Function returns data from the .nc file for the ground simulations\u001b[39;00m\n\u001b[1;32m     45\u001b[0m \u001b[38;5;124;03m\u001b[39;00m\n\u001b[1;32m     46\u001b[0m \u001b[38;5;124;03mParameters\u001b[39;00m\n\u001b[0;32m   (...)\u001b[0m\n\u001b[1;32m     58\u001b[0m \u001b[38;5;124;03m    Ground temperature in the shape (simulation, time, soil_depth)\u001b[39;00m\n\u001b[1;32m     59\u001b[0m \u001b[38;5;124;03m\"\"\"\u001b[39;00m\n\u001b[1;32m     61\u001b[0m \u001b[38;5;66;03m# Open file for ground temperature\u001b[39;00m\n\u001b[0;32m---> 62\u001b[0m ncfile_ground \u001b[38;5;241m=\u001b[39m \u001b[43mDataset\u001b[49m\u001b[43m(\u001b[49m\u001b[43mpath_ground\u001b[49m\u001b[43m,\u001b[49m\u001b[43m \u001b[49m\u001b[43mmode\u001b[49m\u001b[38;5;241;43m=\u001b[39;49m\u001b[38;5;124;43m'\u001b[39;49m\u001b[38;5;124;43mr\u001b[39;49m\u001b[38;5;124;43m'\u001b[39;49m\u001b[43m)\u001b[49m\n\u001b[1;32m     63\u001b[0m \u001b[38;5;66;03m# Select geotop model data\u001b[39;00m\n\u001b[1;32m     64\u001b[0m f_ground \u001b[38;5;241m=\u001b[39m ncfile_ground\u001b[38;5;241m.\u001b[39mgroups[\u001b[38;5;124m'\u001b[39m\u001b[38;5;124mgeotop\u001b[39m\u001b[38;5;124m'\u001b[39m]\n",
      "File \u001b[0;32msrc/netCDF4/_netCDF4.pyx:2469\u001b[0m, in \u001b[0;36mnetCDF4._netCDF4.Dataset.__init__\u001b[0;34m()\u001b[0m\n",
      "File \u001b[0;32msrc/netCDF4/_netCDF4.pyx:2028\u001b[0m, in \u001b[0;36mnetCDF4._netCDF4._ensure_nc_success\u001b[0;34m()\u001b[0m\n",
      "\u001b[0;31mFileNotFoundError\u001b[0m: [Errno 2] No such file or directory: '/fs/yedoma/home/vpo001/VikScriptsTests/SuPerSim/examples/Aksaut_Caucasus/data/North/result_soil_temperature.nc'"
     ]
    }
   ],
   "source": [
    "###############\n",
    "# Ready to go #\n",
    "###############\n",
    "\n",
    "# When used for the first time, it createss the pickles\n",
    "# When the pickles already exist, it simply loads them\n",
    "# but it's easier to use the function 'load_all_pickles' for that\n",
    "df, reanalysis_stats, list_valid_sim, dict_melt_out, stats_melt_out_dic, df_stats, rockfall_values = get_all_stats(\n",
    "    forcing_list, path_forcing_list, path_repository, path_ground, path_snow, path_pickle,\n",
    "    year_bkg_end, year_trans_end, consecutive,\n",
    "    site, date_event, topo_event,\n",
    "    glacier, min_glacier_depth)\n",
    "\n",
    "# this is a function that allows the used to load the pickles in a much simpler way\n",
    "df, reanalysis_stats, list_valid_sim, dict_melt_out, stats_melt_out_dic, df_stats, rockfall_values = load_all_pickles(site, path_pickle)\n",
    "\n",
    "# Finally, we can produce all the summary plots\n",
    "plot_all(site, forcing_list, path_forcing_list, path_ground, path_snow, path_swe, path_thaw_depth, path_pickle,\n",
    "         year_bkg_end, year_trans_end, no_weight=True,\n",
    "         individual_heatmap=False, polar_plots=False, parity_plot=True)"
   ]
  }
 ],
 "metadata": {
  "kernelspec": {
   "display_name": "victorconda",
   "language": "python",
   "name": "python3"
  },
  "language_info": {
   "codemirror_mode": {
    "name": "ipython",
    "version": 3
   },
   "file_extension": ".py",
   "mimetype": "text/x-python",
   "name": "python",
   "nbconvert_exporter": "python",
   "pygments_lexer": "ipython3",
   "version": "3.12.0"
  }
 },
 "nbformat": 4,
 "nbformat_minor": 2
}
