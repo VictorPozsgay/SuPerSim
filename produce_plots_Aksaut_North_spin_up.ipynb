{
 "cells": [
  {
   "cell_type": "code",
   "execution_count": 1,
   "metadata": {},
   "outputs": [],
   "source": [
    "import xarray as xr\n",
    "import pandas as pd\n",
    "from netCDF4 import Dataset, num2date\n",
    "import numpy as np\n",
    "import numpy.ma as ma\n",
    "import matplotlib.dates as mdates\n",
    "import matplotlib.pyplot as plt\n",
    "import matplotlib.gridspec as gridspec\n",
    "import matplotlib.colors\n",
    "from matplotlib.lines import Line2D\n",
    "from matplotlib.patches import Rectangle\n",
    "from matplotlib.transforms import blended_transform_factory\n",
    "from matplotlib import patches, colors\n",
    "from datetime import datetime, timedelta\n",
    "from collections import defaultdict\n",
    "from collections import Counter\n",
    "import scipy.optimize as opt\n",
    "import plotly.express as px\n",
    "import scipy.stats as stats\n",
    "from scipy.stats import linregress\n",
    "import re\n",
    "import pickle \n",
    "import time\n",
    "import warnings\n",
    "import seaborn as sn\n",
    "import cmasher as cmr\n",
    "\n",
    "\n",
    "from functions_summary import *"
   ]
  },
  {
   "cell_type": "code",
   "execution_count": 2,
   "metadata": {},
   "outputs": [],
   "source": [
    "path_forcing_merra2 = '/home/vpo001/storage/Caucasus/Aksaut/old_scaled/scaled_merra2_Aksaut.nc'\n",
    "path_ground = '/home/vpo001/storage/Caucasus/Aksaut/niagara_results/North_spin_up/merra2/result_soil_temperature.nc'\n",
    "path_snow = '/home/vpo001/storage/Caucasus/Aksaut/niagara_results/North_spin_up/merra2/result_snow_depth.nc'\n",
    "path_swe = '/home/vpo001/storage/Caucasus/Aksaut/niagara_results/North_spin_up/merra2/result_swe.nc'\n",
    "path_thaw_depth = '/home/vpo001/storage/Caucasus/Aksaut/niagara_results/North_spin_up/merra2/result_thaw_depth.nc'\n",
    "path_repository = '/home/vpo001/storage/Caucasus/Aksaut/niagara_results/North_spin_up/merra2/folder_manifest.csv'\n",
    "site = 'Aksaut_North_spin_up'\n",
    "year_bkg_end = 2010\n",
    "year_trans_end = 2023\n",
    "forcing_list = ['merra2']\n",
    "path_forcing_list = [path_forcing_merra2]\n",
    "no_weight = True\n",
    "consecutive = 7\n",
    "glacier = False\n",
    "min_glacier_depth = 100"
   ]
  },
  {
   "cell_type": "code",
   "execution_count": 3,
   "metadata": {},
   "outputs": [
    {
     "name": "stdout",
     "output_type": "stream",
     "text": [
      "Succesfully opened the pre-existing pickle: df_Aksaut_North_spin_up.pkl\n",
      "Succesfully opened the pre-existing pickle: reanalysis_stats_Aksaut_North_spin_up.pkl\n",
      "Succesfully opened the pre-existing pickle: list_valid_sim_Aksaut_North_spin_up.pkl\n",
      "Succesfully opened the pre-existing pickle: melt_out_Aksaut_North_spin_up.pkl\n",
      "Succesfully opened the pre-existing pickle: df_stats_Aksaut_North_spin_up.pkl\n"
     ]
    }
   ],
   "source": [
    "df, reanalysis_stats, list_valid_sim, dict_melt_out, stats_melt_out_dic, df_stats = get_all_stats(forcing_list, path_forcing_list, path_repository, path_ground, path_snow,\n",
    "                                                                                                  year_bkg_end, year_trans_end, consecutive, site,\n",
    "                                                                                                  glacier, min_glacier_depth)"
   ]
  },
  {
   "cell_type": "code",
   "execution_count": 4,
   "metadata": {},
   "outputs": [
    {
     "name": "stdout",
     "output_type": "stream",
     "text": [
      "Succesfully opened the pre-existing pickle: df_Aksaut_North_spin_up.pkl\n",
      "Succesfully opened the pre-existing pickle: reanalysis_stats_Aksaut_North_spin_up.pkl\n",
      "Succesfully opened the pre-existing pickle: list_valid_sim_Aksaut_North_spin_up.pkl\n",
      "Succesfully opened the pre-existing pickle: melt_out_Aksaut_North_spin_up.pkl\n",
      "Succesfully opened the pre-existing pickle: df_stats_Aksaut_North_spin_up.pkl\n"
     ]
    }
   ],
   "source": [
    "df, reanalysis_stats, list_valid_sim, dict_melt_out, stats_melt_out_dic, df_stats = load_all_pickles(site)"
   ]
  },
  {
   "cell_type": "code",
   "execution_count": null,
   "metadata": {},
   "outputs": [
    {
     "ename": "TypeError",
     "evalue": "plot_all() missing 1 required positional argument: 'year_trans_end'",
     "output_type": "error",
     "traceback": [
      "\u001b[0;31m---------------------------------------------------------------------------\u001b[0m",
      "\u001b[0;31mTypeError\u001b[0m                                 Traceback (most recent call last)",
      "Cell \u001b[0;32mIn[5], line 1\u001b[0m\n\u001b[0;32m----> 1\u001b[0m \u001b[43mplot_all\u001b[49m\u001b[43m(\u001b[49m\u001b[43msite\u001b[49m\u001b[43m,\u001b[49m\u001b[43m \u001b[49m\u001b[43mforcing_list\u001b[49m\u001b[43m,\u001b[49m\u001b[43m \u001b[49m\u001b[43mpath_forcing_list\u001b[49m\u001b[43m,\u001b[49m\u001b[43m \u001b[49m\u001b[43mpath_ground\u001b[49m\u001b[43m,\u001b[49m\u001b[43m \u001b[49m\u001b[43mpath_swe\u001b[49m\u001b[43m,\u001b[49m\u001b[43m \u001b[49m\u001b[43mpath_thaw_depth\u001b[49m\u001b[43m,\u001b[49m\n\u001b[1;32m      2\u001b[0m \u001b[43m         \u001b[49m\u001b[43myear_bkg_end\u001b[49m\u001b[43m,\u001b[49m\u001b[43m \u001b[49m\u001b[43myear_trans_end\u001b[49m\u001b[43m,\u001b[49m\u001b[43m \u001b[49m\u001b[43mno_weight\u001b[49m\u001b[38;5;241;43m=\u001b[39;49m\u001b[38;5;28;43;01mTrue\u001b[39;49;00m\u001b[43m,\u001b[49m\n\u001b[1;32m      3\u001b[0m \u001b[43m         \u001b[49m\u001b[43mindividual_heatmap\u001b[49m\u001b[38;5;241;43m=\u001b[39;49m\u001b[38;5;28;43;01mFalse\u001b[39;49;00m\u001b[43m,\u001b[49m\u001b[43m \u001b[49m\u001b[43mpolar_plots\u001b[49m\u001b[38;5;241;43m=\u001b[39;49m\u001b[38;5;28;43;01mFalse\u001b[39;49;00m\u001b[43m,\u001b[49m\u001b[43m \u001b[49m\u001b[43mparity_plot\u001b[49m\u001b[38;5;241;43m=\u001b[39;49m\u001b[38;5;28;43;01mTrue\u001b[39;49;00m\u001b[43m)\u001b[49m\n",
      "\u001b[0;31mTypeError\u001b[0m: plot_all() missing 1 required positional argument: 'year_trans_end'"
     ]
    }
   ],
   "source": [
    "plot_all(site, forcing_list, path_forcing_list, path_ground, path_snow, path_swe, path_thaw_depth,\n",
    "         year_bkg_end, year_trans_end, no_weight=True,\n",
    "         individual_heatmap=False, polar_plots=False, parity_plot=True)"
   ]
  }
 ],
 "metadata": {
  "kernelspec": {
   "display_name": "victorconda",
   "language": "python",
   "name": "python3"
  },
  "language_info": {
   "codemirror_mode": {
    "name": "ipython",
    "version": 3
   },
   "file_extension": ".py",
   "mimetype": "text/x-python",
   "name": "python",
   "nbconvert_exporter": "python",
   "pygments_lexer": "ipython3",
   "version": "3.12.0"
  }
 },
 "nbformat": 4,
 "nbformat_minor": 2
}
