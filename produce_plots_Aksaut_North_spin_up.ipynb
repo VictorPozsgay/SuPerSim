{
 "cells": [
  {
   "cell_type": "code",
   "execution_count": null,
   "metadata": {},
   "outputs": [],
   "source": [
    "import xarray as xr\n",
    "import pandas as pd\n",
    "from netCDF4 import Dataset, num2date\n",
    "import numpy as np\n",
    "import numpy.ma as ma\n",
    "import matplotlib.dates as mdates\n",
    "import matplotlib.pyplot as plt\n",
    "import matplotlib.gridspec as gridspec\n",
    "import matplotlib.colors\n",
    "from matplotlib.lines import Line2D\n",
    "from matplotlib.patches import Rectangle\n",
    "from matplotlib.transforms import blended_transform_factory\n",
    "from matplotlib import patches, colors\n",
    "from datetime import datetime, timedelta\n",
    "from collections import defaultdict\n",
    "from collections import Counter\n",
    "import scipy.optimize as opt\n",
    "import plotly.express as px\n",
    "import scipy.stats as stats\n",
    "from scipy.stats import linregress\n",
    "import re\n",
    "import pickle \n",
    "import time\n",
    "import warnings\n",
    "import seaborn as sn\n",
    "import cmasher as cmr\n",
    "\n",
    "\n",
    "from functions_summary import *"
   ]
  }
 ],
 "metadata": {
  "language_info": {
   "name": "python"
  }
 },
 "nbformat": 4,
 "nbformat_minor": 2
}
